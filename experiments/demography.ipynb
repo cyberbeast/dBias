{
 "cells": [
  {
   "cell_type": "code",
   "execution_count": 1,
   "metadata": {
    "collapsed": true
   },
   "outputs": [],
   "source": [
    "%matplotlib inline\n",
    "\n",
    "import matplotlib.pyplot as plt\n",
    "from pandas import read_csv, Series\n",
    "import numpy as np\n",
    "import scipy\n",
    "from sklearn.ensemble import RandomForestClassifier as RF\n",
    "from sklearn.preprocessing import LabelEncoder, OneHotEncoder"
   ]
  },
  {
   "cell_type": "code",
   "execution_count": 2,
   "metadata": {
    "collapsed": false
   },
   "outputs": [],
   "source": [
    "def clean_and_read_adult(data_file=\"train\"):\n",
    "    try:\n",
    "        f = open('adult_%s.csv' % data_file)\n",
    "    except IOError:\n",
    "        f = open('adult.%s' % data_file)\n",
    "    lines = f.read().split('\\n')\n",
    "    w = open('adult_%s_clean.csv' % data_file, 'wb')\n",
    "    w.write(lines[0]+'\\n')\n",
    "    for l in lines[1:]:\n",
    "        w.write(','.join([_.strip() for _ in l.split(',')])+'\\n')\n",
    "    w.close()\n",
    "    f.close()\n",
    "    data = read_csv('adult_%s_clean.csv' % data_file)\n",
    "    return data"
   ]
  },
  {
   "cell_type": "code",
   "execution_count": 3,
   "metadata": {
    "collapsed": false
   },
   "outputs": [],
   "source": [
    "data_train = clean_and_read_adult('train')\n",
    "data_test = clean_and_read_adult('test')\n",
    "\n",
    "total_train = len(data_train)\n",
    "total_test = len(data_test)"
   ]
  },
  {
   "cell_type": "code",
   "execution_count": 4,
   "metadata": {
    "collapsed": false
   },
   "outputs": [
    {
     "data": {
      "text/plain": [
       "Index([u'age', u'workclass', u'fnlwgt', u'education', u'education-num',\n",
       "       u'marital-status', u'occupation', u'relationship', u'race', u'sex',\n",
       "       u'capital-gain', u'capital-loss', u'hours-per-week', u'native-country',\n",
       "       u'salary'],\n",
       "      dtype='object')"
      ]
     },
     "execution_count": 4,
     "metadata": {},
     "output_type": "execute_result"
    }
   ],
   "source": [
    "data_test.columns"
   ]
  },
  {
   "cell_type": "code",
   "execution_count": 5,
   "metadata": {
    "collapsed": true
   },
   "outputs": [],
   "source": [
    "race_label_encoder = LabelEncoder()\n",
    "\n",
    "race_labels = race_label_encoder.fit(data_train['race'])"
   ]
  },
  {
   "cell_type": "code",
   "execution_count": 6,
   "metadata": {
    "collapsed": false,
    "scrolled": false
   },
   "outputs": [
    {
     "data": {
      "text/plain": [
       "array(['Amer-Indian-Eskimo', 'Asian-Pac-Islander', 'Black', 'Other',\n",
       "       'White'], dtype=object)"
      ]
     },
     "execution_count": 6,
     "metadata": {},
     "output_type": "execute_result"
    }
   ],
   "source": [
    "race_labels.classes_"
   ]
  },
  {
   "cell_type": "code",
   "execution_count": 7,
   "metadata": {
    "collapsed": true
   },
   "outputs": [],
   "source": [
    "target_race = 'White'"
   ]
  },
  {
   "cell_type": "code",
   "execution_count": 8,
   "metadata": {
    "collapsed": false
   },
   "outputs": [],
   "source": [
    "data_train['class'] = Series(data_train['race'] == target_race)\n",
    "data_test['class'] = Series(data_test['race'] == target_race)"
   ]
  },
  {
   "cell_type": "code",
   "execution_count": 9,
   "metadata": {
    "collapsed": false
   },
   "outputs": [],
   "source": [
    "def show_race_occupation(query_ethic='White'):\n",
    "    data_ethic = data_train[data_train['race'] == query_ethic]\n",
    "    data_ethic['occupation'].hist(label=query_ethic)"
   ]
  },
  {
   "cell_type": "code",
   "execution_count": 10,
   "metadata": {
    "collapsed": false
   },
   "outputs": [
    {
     "data": {
      "text/plain": [
       "<matplotlib.legend.Legend at 0x115d6da50>"
      ]
     },
     "execution_count": 10,
     "metadata": {},
     "output_type": "execute_result"
    },
    {
     "data": {
      "image/png": "[encoded data removed]",
      "text/plain": [
       "<matplotlib.figure.Figure at 0x11580d710>"
      ]
     },
     "metadata": {},
     "output_type": "display_data"
    }
   ],
   "source": [
    "for race in race_labels.classes_[::-1]:\n",
    "    show_race_occupation(race)\n",
    "plt.xticks(rotation=90)\n",
    "plt.legend()"
   ]
  },
  {
   "cell_type": "code",
   "execution_count": 11,
   "metadata": {
    "collapsed": false
   },
   "outputs": [
    {
     "name": "stdout",
     "output_type": "stream",
     "text": [
      "Amer-Indian-Eskimo [4036   30]\n",
      "Asian-Pac-Islander [3931  135]\n",
      "Black [3822  244]\n",
      "Other [4055   11]\n",
      "White [ 420 3646]\n"
     ]
    }
   ],
   "source": [
    "for race in race_label_encoder.classes_:\n",
    "    print race, np.bincount(data_train[data_train['occupation'] == 'Exec-managerial']['race'] == race)"
   ]
  },
  {
   "cell_type": "code",
   "execution_count": 12,
   "metadata": {
    "collapsed": false
   },
   "outputs": [
    {
     "data": {
      "text/plain": [
       "array([28495,  4066])"
      ]
     },
     "execution_count": 12,
     "metadata": {},
     "output_type": "execute_result"
    }
   ],
   "source": [
    "np.bincount(data_train['occupation'] == 'Exec-managerial')"
   ]
  },
  {
   "cell_type": "code",
   "execution_count": 13,
   "metadata": {
    "collapsed": false
   },
   "outputs": [
    {
     "name": "stdout",
     "output_type": "stream",
     "text": [
      "Amer-Indian-Eskimo [310   1]\n",
      "Asian-Pac-Islander [1039]\n",
      "Black [3123    1]\n",
      "Other [271]\n",
      "White [27809     7]\n"
     ]
    }
   ],
   "source": [
    "for race in race_label_encoder.classes_:\n",
    "    print race, np.bincount(data_train[data_train['race'] == race]['occupation'] == 'Armed-Forces')"
   ]
  },
  {
   "cell_type": "code",
   "execution_count": 14,
   "metadata": {
    "collapsed": false
   },
   "outputs": [
    {
     "name": "stderr",
     "output_type": "stream",
     "text": [
      "/Users/sivaramanks/anaconda2/lib/python2.7/site-packages/scipy/stats/stats.py:250: RuntimeWarning: The input array could not be properly checked for nan values. nan values will be ignored.\n",
      "  \"values. nan values will be ignored.\", RuntimeWarning)\n"
     ]
    }
   ],
   "source": [
    "X = data_train.values\n",
    "pop_skew = []\n",
    "for i in range(X.shape[1]):\n",
    "    try:\n",
    "        pop_skew.append(scipy.stats.skew(X[:,i]))\n",
    "    except TypeError:\n",
    "        continue"
   ]
  },
  {
   "cell_type": "code",
   "execution_count": 15,
   "metadata": {
    "collapsed": false
   },
   "outputs": [],
   "source": [
    "X = data_train[data_train['race'] == 'White'].values\n",
    "white_skew = []\n",
    "for i in range(X.shape[1]):\n",
    "    try:\n",
    "        white_skew.append(scipy.stats.skew(X[:,i]))\n",
    "    except TypeError:\n",
    "        continue"
   ]
  },
  {
   "cell_type": "code",
   "execution_count": 16,
   "metadata": {
    "collapsed": false
   },
   "outputs": [],
   "source": [
    "X = data_train[data_train['race'] == 'Black'].values\n",
    "black_skew = []\n",
    "for i in range(X.shape[1]):\n",
    "    try:\n",
    "        black_skew.append(scipy.stats.skew(X[:,i]))\n",
    "    except TypeError:\n",
    "        continue"
   ]
  },
  {
   "cell_type": "code",
   "execution_count": 17,
   "metadata": {
    "collapsed": false
   },
   "outputs": [],
   "source": [
    "condition1 = data_train['race'] == 'Black'\n",
    "condition2 = data_train['occupation'] == 'Exec-managerial'\n",
    "\n",
    "X = data_train[condition1 & condition2].values\n",
    "black_mgr_skew = []\n",
    "for i in range(X.shape[1]):\n",
    "    try:\n",
    "        black_mgr_skew.append(scipy.stats.skew(X[:,i]))\n",
    "    except TypeError:\n",
    "        continue\n",
    "        \n",
    "condition1 = data_train['race'] == 'White'\n",
    "condition2 = data_train['occupation'] == 'Exec-managerial'\n",
    "\n",
    "X = data_train[condition1 & condition2].values\n",
    "columns = data_train.columns\n",
    "numeric_labels = []\n",
    "white_mgr_skew = []\n",
    "for i in range(X.shape[1]):\n",
    "    try:\n",
    "        white_mgr_skew.append(scipy.stats.skew(X[:,i]))\n",
    "        numeric_labels.append(columns[i])\n",
    "    except TypeError:\n",
    "        continue"
   ]
  },
  {
   "cell_type": "code",
   "execution_count": 18,
   "metadata": {
    "collapsed": false
   },
   "outputs": [
    {
     "data": {
      "image/png": "[encoded data removed]",
      "text/plain": [
       "<matplotlib.figure.Figure at 0x115e57f50>"
      ]
     },
     "metadata": {},
     "output_type": "display_data"
    }
   ],
   "source": [
    "plt.plot(pop_skew, 'r', label=\"Pop skew\")\n",
    "plt.plot(black_skew, 'k', label=\"Black skew\")\n",
    "plt.plot(white_skew, 'b', label=\"White skew\")\n",
    "plt.plot(white_mgr_skew, 'c', label=\"White Mgr skew\")\n",
    "plt.plot(black_mgr_skew, 'g', label=\"Black Mgr skew\")\n",
    "plt.legend()\n",
    "plt.xticks(range(len(numeric_labels)), numeric_labels, rotation='vertical')\n",
    "plt.show()"
   ]
  },
  {
   "cell_type": "code",
   "execution_count": 19,
   "metadata": {
    "collapsed": true
   },
   "outputs": [],
   "source": [
    "model_rf = RF(n_estimators=100, n_jobs=-1)"
   ]
  },
  {
   "cell_type": "code",
   "execution_count": 20,
   "metadata": {
    "collapsed": false
   },
   "outputs": [
    {
     "name": "stdout",
     "output_type": "stream",
     "text": [
      "all [ 4745 27816]\n",
      "White [    0 27816]\n",
      "Black [3124]\n",
      "Asian-Pac-Islander [1039]\n",
      "Amer-Indian-Eskimo [311]\n",
      "Other [271]\n"
     ]
    }
   ],
   "source": [
    "print 'all', np.bincount(data_train['class'])\n",
    "for race in data_train['race'].unique():\n",
    "    query_race = data_train['race'] == race\n",
    "    class_race = data_train[query_race]['class']\n",
    "    print race, np.bincount(class_race)"
   ]
  },
  {
   "cell_type": "code",
   "execution_count": 21,
   "metadata": {
    "collapsed": false
   },
   "outputs": [],
   "source": [
    "def get_distribution(distr_sample):\n",
    "    values = np.bincount(distr_sample)\n",
    "    total = float(len(distr_sample))\n",
    "    return values/total"
   ]
  },
  {
   "cell_type": "code",
   "execution_count": 22,
   "metadata": {
    "collapsed": false
   },
   "outputs": [],
   "source": [
    "#X_train = data_train.fillna(0).loc[:, data_train.columns != 'salary']\n",
    "# set missing values to 0\n",
    "#X[X == '?'] = 0\n",
    "X_train = data_train.loc[:, data_train.columns != 'class'].values\n",
    "Y_train = data_train['class'].values"
   ]
  },
  {
   "cell_type": "code",
   "execution_count": 23,
   "metadata": {
    "collapsed": false,
    "scrolled": true
   },
   "outputs": [
    {
     "data": {
      "text/plain": [
       "((32561, 15), (32561,))"
      ]
     },
     "execution_count": 23,
     "metadata": {},
     "output_type": "execute_result"
    }
   ],
   "source": [
    "X_train.shape, Y_train.shape"
   ]
  },
  {
   "cell_type": "code",
   "execution_count": 24,
   "metadata": {
    "collapsed": false
   },
   "outputs": [],
   "source": [
    "# encode string input values as integers\n",
    "def transform_train(X):\n",
    "    label_attributes = {}\n",
    "    encoded_x = None\n",
    "    numeric_x = None\n",
    "    for i in range(0, X.shape[1]):\n",
    "        if type(X[0,i]) != str:\n",
    "            if numeric_x is None:\n",
    "                numeric_x = X[:,i].reshape(X.shape[0], 1)\n",
    "                print numeric_x.shape\n",
    "\n",
    "            else:\n",
    "                numeric_x = np.concatenate((X[:,i].reshape(X.shape[0], 1), numeric_x), axis=1)\n",
    "            continue\n",
    "        label_encoder = LabelEncoder()\n",
    "        feature = label_encoder.fit_transform(X[:,i])\n",
    "        feature = feature.reshape(X.shape[0], 1)\n",
    "        onehot_encoder = OneHotEncoder(sparse=False)\n",
    "        feature = onehot_encoder.fit_transform(feature)\n",
    "        label_attributes[i] = {'label_encoder': label_encoder, 'onehot_encoder': onehot_encoder}\n",
    "        if encoded_x is None:\n",
    "            encoded_x = feature\n",
    "        else:\n",
    "            encoded_x = np.concatenate((encoded_x, feature), axis=1)\n",
    "    print(\"encoded X shape: : \", encoded_x.shape)\n",
    "    print(\"numericX shape: : \", numeric_x.shape)\n",
    "    X_ = np.concatenate((numeric_x, encoded_x), axis=1)\n",
    "    print(\"Final Shape:\", X_.shape)\n",
    "    return X_, label_attributes\n",
    "\n",
    "def transform_test(X, label_attributes):\n",
    "    encoded_x = None\n",
    "    numeric_x = None\n",
    "    for i in range(0, X.shape[1]):\n",
    "        if type(X[0,i]) != str:\n",
    "            if numeric_x is None:\n",
    "                numeric_x = X[:,i].reshape(X.shape[0], 1)\n",
    "                print numeric_x.shape\n",
    "\n",
    "            else:\n",
    "                numeric_x = np.concatenate((X[:,i].reshape(X.shape[0], 1), numeric_x), axis=1)\n",
    "            continue\n",
    "        label_encoder = label_attributes[i]['label_encoder']\n",
    "        feature = label_encoder.transform(X[:,i])\n",
    "        feature = feature.reshape(X.shape[0], 1)\n",
    "        onehot_encoder = label_attributes[i]['onehot_encoder']\n",
    "        feature = onehot_encoder.transform(feature)\n",
    "        if encoded_x is None:\n",
    "            encoded_x = feature\n",
    "        else:\n",
    "            encoded_x = np.concatenate((encoded_x, feature), axis=1)\n",
    "    print(\"encoded X shape: : \", encoded_x.shape)\n",
    "    print(\"numericX shape: : \", numeric_x.shape)\n",
    "    X_ = np.concatenate((numeric_x, encoded_x), axis=1)\n",
    "    print(\"Final Shape:\", X_.shape)\n",
    "    return X_"
   ]
  },
  {
   "cell_type": "code",
   "execution_count": 25,
   "metadata": {
    "collapsed": false
   },
   "outputs": [
    {
     "data": {
      "text/plain": [
       "(16281, 15)"
      ]
     },
     "execution_count": 25,
     "metadata": {},
     "output_type": "execute_result"
    }
   ],
   "source": [
    "#X_test = data_test.fillna(0).loc[:, data_test.columns != 'salary']\n",
    "# set missing values to 0\n",
    "#X[X == '?'] = 0\n",
    "X_test = data_test.loc[:, data_test.columns != 'class'].values\n",
    "Y_test = data_test['class'].values\n",
    "X_test.shape"
   ]
  },
  {
   "cell_type": "code",
   "execution_count": 26,
   "metadata": {
    "collapsed": false
   },
   "outputs": [
    {
     "name": "stdout",
     "output_type": "stream",
     "text": [
      "(48842, 1)\n",
      "('encoded X shape: : ', (48842, 106))\n",
      "('numericX shape: : ', (48842, 6))\n",
      "('Final Shape:', (48842, 112))\n",
      "(32561, 112) (16281, 112)\n"
     ]
    }
   ],
   "source": [
    "limit = len(X_train)\n",
    "X_combined, _ = transform_train(np.concatenate((X_train, X_test), axis=0))\n",
    "\n",
    "X_train_transformed, X_test_transformed = X_combined[:limit],X_combined[limit:]\n",
    "\n",
    "print X_train_transformed.shape, X_test_transformed.shape"
   ]
  },
  {
   "cell_type": "code",
   "execution_count": 27,
   "metadata": {
    "collapsed": false
   },
   "outputs": [],
   "source": [
    "model_rf = RF(n_estimators=100)"
   ]
  },
  {
   "cell_type": "code",
   "execution_count": 28,
   "metadata": {
    "collapsed": false
   },
   "outputs": [
    {
     "data": {
      "text/plain": [
       "RandomForestClassifier(bootstrap=True, class_weight=None, criterion='gini',\n",
       "            max_depth=None, max_features='auto', max_leaf_nodes=None,\n",
       "            min_impurity_split=1e-07, min_samples_leaf=1,\n",
       "            min_samples_split=2, min_weight_fraction_leaf=0.0,\n",
       "            n_estimators=100, n_jobs=1, oob_score=False, random_state=None,\n",
       "            verbose=0, warm_start=False)"
      ]
     },
     "execution_count": 28,
     "metadata": {},
     "output_type": "execute_result"
    }
   ],
   "source": [
    "model_rf.fit(X_train_transformed,Y_train)"
   ]
  },
  {
   "cell_type": "code",
   "execution_count": 29,
   "metadata": {
    "collapsed": false
   },
   "outputs": [],
   "source": [
    "pred_rf = model_rf.predict(X_train_transformed)"
   ]
  },
  {
   "cell_type": "code",
   "execution_count": 30,
   "metadata": {
    "collapsed": false
   },
   "outputs": [
    {
     "data": {
      "text/plain": [
       "array([    0, 32561])"
      ]
     },
     "execution_count": 30,
     "metadata": {},
     "output_type": "execute_result"
    }
   ],
   "source": [
    "np.bincount(pred_rf == Y_train)"
   ]
  },
  {
   "cell_type": "code",
   "execution_count": 31,
   "metadata": {
    "collapsed": false,
    "scrolled": true
   },
   "outputs": [],
   "source": [
    "pred_rf_test = model_rf.predict(X_test_transformed)"
   ]
  },
  {
   "cell_type": "code",
   "execution_count": 32,
   "metadata": {
    "collapsed": false
   },
   "outputs": [
    {
     "data": {
      "text/plain": [
       "array([    0, 16281])"
      ]
     },
     "execution_count": 32,
     "metadata": {},
     "output_type": "execute_result"
    }
   ],
   "source": [
    "np.bincount(pred_rf_test == Y_test)"
   ]
  },
  {
   "cell_type": "code",
   "execution_count": 33,
   "metadata": {
    "collapsed": true
   },
   "outputs": [],
   "source": [
    "## after deskewing it"
   ]
  },
  {
   "cell_type": "code",
   "execution_count": 34,
   "metadata": {
    "collapsed": false
   },
   "outputs": [],
   "source": [
    "##races_prior = {'all': {'no': class_no_prior, 'yes':class_yes_prior}}\n",
    "occupation_prior = {}\n",
    "for occupation in data_train['occupation'].unique():\n",
    "    data = data_train[data_train['occupation'] == occupation]\n",
    "    occupation_prior[occupation] = {}\n",
    "    for race in [target_race]:\n",
    "        values = get_distribution(data['race']==race)\n",
    "        if len(values) == 1:\n",
    "            no = 1.\n",
    "            yes = 0.\n",
    "        else:\n",
    "            no, yes = values\n",
    "        occupation_prior[occupation] = {'no_prior': no, 'yes_prior': yes}"
   ]
  },
  {
   "cell_type": "code",
   "execution_count": 35,
   "metadata": {
    "collapsed": false,
    "scrolled": true
   },
   "outputs": [
    {
     "name": "stdout",
     "output_type": "stream",
     "text": [
      "{   '?': {   'no_prior': 0.17797069994574063, 'yes_prior': 0.82202930005425934},\n",
      "    'Adm-clerical': {   'no_prior': 0.1819628647214854,\n",
      "                        'yes_prior': 0.81803713527851463},\n",
      "    'Armed-Forces': {   'no_prior': 0.22222222222222221,\n",
      "                        'yes_prior': 0.77777777777777779},\n",
      "    'Craft-repair': {   'no_prior': 0.098804586484508419,\n",
      "                        'yes_prior': 0.90119541351549159},\n",
      "    'Exec-managerial': {   'no_prior': 0.10329562223315297,\n",
      "                           'yes_prior': 0.89670437776684697},\n",
      "    'Farming-fishing': {   'no_prior': 0.079476861167002005,\n",
      "                           'yes_prior': 0.92052313883299797},\n",
      "    'Handlers-cleaners': {   'no_prior': 0.17226277372262774,\n",
      "                             'yes_prior': 0.82773722627737223},\n",
      "    'Machine-op-inspct': {   'no_prior': 0.1953046953046953,\n",
      "                             'yes_prior': 0.8046953046953047},\n",
      "    'Other-service': {   'no_prior': 0.23429438543247344,\n",
      "                         'yes_prior': 0.7657056145675265},\n",
      "    'Priv-house-serv': {   'no_prior': 0.2348993288590604,\n",
      "                           'yes_prior': 0.7651006711409396},\n",
      "    'Prof-specialty': {   'no_prior': 0.11811594202898551,\n",
      "                          'yes_prior': 0.88188405797101455},\n",
      "    'Protective-serv': {   'no_prior': 0.20030816640986132,\n",
      "                           'yes_prior': 0.79969183359013862},\n",
      "    'Sales': {   'no_prior': 0.11315068493150685,\n",
      "                 'yes_prior': 0.88684931506849318},\n",
      "    'Tech-support': {   'no_prior': 0.13146551724137931,\n",
      "                        'yes_prior': 0.86853448275862066},\n",
      "    'Transport-moving': {   'no_prior': 0.14840325610519725,\n",
      "                            'yes_prior': 0.85159674389480278}}\n"
     ]
    }
   ],
   "source": [
    "## Correlates directly with skew values\n",
    "import pprint\n",
    "pp = pprint.PrettyPrinter(indent=4)\n",
    "\n",
    "pp.pprint(occupation_prior)"
   ]
  },
  {
   "cell_type": "code",
   "execution_count": 36,
   "metadata": {
    "collapsed": false
   },
   "outputs": [],
   "source": [
    "class_no_prior, class_yes_prior = get_distribution(data['race'] == 'Black')"
   ]
  },
  {
   "cell_type": "code",
   "execution_count": 37,
   "metadata": {
    "collapsed": false
   },
   "outputs": [],
   "source": [
    "all_no, all_yes = np.bincount(data_train['class'])\n",
    "yes_over_no = all_yes/float(all_no)\n",
    "no_over_yes = 1/yes_over_no"
   ]
  },
  {
   "cell_type": "code",
   "execution_count": 38,
   "metadata": {
    "collapsed": false
   },
   "outputs": [
    {
     "data": {
      "text/plain": [
       "(0.81208053691275173, 0.18791946308724833)"
      ]
     },
     "execution_count": 38,
     "metadata": {},
     "output_type": "execute_result"
    }
   ],
   "source": [
    "class_no_prior, class_yes_prior"
   ]
  },
  {
   "cell_type": "code",
   "execution_count": 47,
   "metadata": {
    "collapsed": false
   },
   "outputs": [
    {
     "name": "stdout",
     "output_type": "stream",
     "text": [
      "0.145756457565\n",
      "0.153846153846\n",
      "0.145735876214\n",
      "0.145742873325\n",
      "0.145756457565\n",
      "0.145752608048\n",
      "0.145730416373\n",
      "0.145732130465\n",
      "0.145768993206\n",
      "0.145777777778\n",
      "0.145740386658\n",
      "0.145739910314\n",
      "0.145758661888\n",
      "0.145833333333\n",
      "0.145732389117\n",
      "32561\n",
      "32556\n"
     ]
    }
   ],
   "source": [
    "### Main Deskewing Routine\n",
    "\n",
    "data = data_train\n",
    "new_X = None\n",
    "_sum = 0\n",
    "\n",
    "races_prior = occupation_prior\n",
    "for race in races_prior:\n",
    "    if races_prior[race]['no_prior'] >= class_no_prior:\n",
    "        race_yes_index = data.index[(data['occupation'] == race) & (data['class'] == True)].tolist()\n",
    "        race_no_index = data.index[(data['occupation'] == race) & (data['class'] == False)].tolist()\n",
    "        race_no_index = np.random.choice(race_no_index,\n",
    "                                         int(no_over_yes*len(race_yes_index)), replace=False).tolist()\n",
    "    else:\n",
    "        race_no_index = data.index[(data['occupation'] == race) & (data['class'] == False)].tolist()\n",
    "        race_yes_index = data.index[(data['occupation'] == race) & (data['class'] == True)]\n",
    "        race_yes_index = np.random.choice(race_yes_index,\n",
    "                                          int(yes_over_no*len(race_no_index))).tolist()\n",
    "    print len(race_no_index)/ float(len(race_yes_index)+len(race_no_index))\n",
    "    _sum += len(race_no_index + race_yes_index)\n",
    "    ##print data.loc[race_no_index+race_yes_index,['race', 'class']]\n",
    "    ##raw_input()\n",
    "    if new_X is None:\n",
    "        new_X = X_train_transformed[race_no_index + race_yes_index]\n",
    "        new_Y = Y_train[race_no_index + race_yes_index]\n",
    "    else:\n",
    "        new_X = np.concatenate((new_X, X_train_transformed[race_no_index + race_yes_index]), axis=0)\n",
    "        new_Y = np.concatenate((new_Y, Y_train[race_no_index + race_yes_index]), axis=0)\n",
    "print total_train\n",
    "print _sum"
   ]
  },
  {
   "cell_type": "code",
   "execution_count": 48,
   "metadata": {
    "collapsed": false
   },
   "outputs": [
    {
     "data": {
      "text/plain": [
       "(32556, 112)"
      ]
     },
     "execution_count": 48,
     "metadata": {},
     "output_type": "execute_result"
    }
   ],
   "source": [
    "new_X.shape"
   ]
  },
  {
   "cell_type": "code",
   "execution_count": 49,
   "metadata": {
    "collapsed": false
   },
   "outputs": [
    {
     "data": {
      "text/plain": [
       "RandomForestClassifier(bootstrap=True, class_weight=None, criterion='gini',\n",
       "            max_depth=None, max_features='auto', max_leaf_nodes=None,\n",
       "            min_impurity_split=1e-07, min_samples_leaf=1,\n",
       "            min_samples_split=2, min_weight_fraction_leaf=0.0,\n",
       "            n_estimators=100, n_jobs=-1, oob_score=False,\n",
       "            random_state=None, verbose=0, warm_start=False)"
      ]
     },
     "execution_count": 49,
     "metadata": {},
     "output_type": "execute_result"
    }
   ],
   "source": [
    "model_deskew = RF(n_estimators=100, n_jobs=-1)\n",
    "model_deskew.fit(new_X, new_Y)"
   ]
  },
  {
   "cell_type": "code",
   "execution_count": 50,
   "metadata": {
    "collapsed": false
   },
   "outputs": [],
   "source": [
    "pred_rf_deskew = model_deskew.predict(X_train_transformed)"
   ]
  },
  {
   "cell_type": "code",
   "execution_count": 51,
   "metadata": {
    "collapsed": false
   },
   "outputs": [
    {
     "data": {
      "text/plain": [
       "array([    0, 32561])"
      ]
     },
     "execution_count": 51,
     "metadata": {},
     "output_type": "execute_result"
    }
   ],
   "source": [
    "np.bincount(pred_rf_deskew == Y_train)"
   ]
  },
  {
   "cell_type": "code",
   "execution_count": 52,
   "metadata": {
    "collapsed": true
   },
   "outputs": [],
   "source": [
    "pred_rf_deskew_test = model_deskew.predict(X_test_transformed)"
   ]
  },
  {
   "cell_type": "code",
   "execution_count": 53,
   "metadata": {
    "collapsed": false
   },
   "outputs": [
    {
     "data": {
      "text/plain": [
       "array([    0, 16281])"
      ]
     },
     "execution_count": 53,
     "metadata": {},
     "output_type": "execute_result"
    }
   ],
   "source": [
    "np.bincount(pred_rf_deskew_test == Y_test)"
   ]
  },
  {
   "cell_type": "code",
   "execution_count": null,
   "metadata": {
    "collapsed": true
   },
   "outputs": [],
   "source": []
  }
 ],
 "metadata": {
  "anaconda-cloud": {},
  "kernelspec": {
   "display_name": "Python [Root]",
   "language": "python",
   "name": "Python [Root]"
  },
  "language_info": {
   "codemirror_mode": {
    "name": "ipython",
    "version": 2
   },
   "file_extension": ".py",
   "mimetype": "text/x-python",
   "name": "python",
   "nbconvert_exporter": "python",
   "pygments_lexer": "ipython2",
   "version": "2.7.12"
  }
 },
 "nbformat": 4,
 "nbformat_minor": 0
}
