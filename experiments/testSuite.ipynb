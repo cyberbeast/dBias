{
 "cells": [
  {
   "cell_type": "code",
   "execution_count": 1,
   "metadata": {
    "collapsed": true
   },
   "outputs": [],
   "source": [
    "from pandas import read_csv, Series\n",
    "import numpy as np\n",
    "import json"
   ]
  },
  {
   "cell_type": "code",
   "execution_count": 2,
   "metadata": {
    "collapsed": true
   },
   "outputs": [],
   "source": [
    "def clean_and_read_adult(data_file=\"train\"):\n",
    "    try:\n",
    "        f = open('adult_%s.csv' % data_file)\n",
    "    except IOError:\n",
    "        f = open('adult.%s' % data_file)\n",
    "    lines = f.read().split('\\n')\n",
    "    w = open('adult_%s_clean.csv' % data_file, 'wb')\n",
    "    w.write(lines[0]+'\\n')\n",
    "    for l in lines[1:]:\n",
    "        w.write(','.join([_.strip() for _ in l.split(',')])+'\\n')\n",
    "    w.close()\n",
    "    f.close()\n",
    "    data = read_csv('adult_%s_clean.csv' % data_file)\n",
    "    _class = data['salary'] == '>50K'\n",
    "    data['class'] = Series(_class)\n",
    "    return data"
   ]
  },
  {
   "cell_type": "code",
   "execution_count": 3,
   "metadata": {
    "collapsed": false
   },
   "outputs": [],
   "source": [
    "data = clean_and_read_adult()"
   ]
  },
  {
   "cell_type": "code",
   "execution_count": 4,
   "metadata": {
    "collapsed": false
   },
   "outputs": [],
   "source": [
    "class Query:\n",
    "\n",
    "    def __init__(self, queryName):\n",
    "        self.queryName = queryName\n",
    "\n",
    "    def mask(self, feature, value, operation='eq'):\n",
    "        operationsDict = {\n",
    "            'eq': feature == value,\n",
    "            'lt': feature < value,\n",
    "            'gt': feature > value,\n",
    "            'neq': feature != value,\n",
    "            'gte': feature >= value,\n",
    "            'lte': feature <= value\n",
    "        }\n",
    "        resultMask = operationsDict[operation]\n",
    "        return resultMask\n",
    "    \n",
    "    def lookup(self, dataFrame, query_params):\n",
    "\n",
    "        self.conjunctions = query_params['conjunctions']        \n",
    "        self.conditions = query_params['conditions']\n",
    "        \n",
    "        assert len(self.conjunctions) == len(self.conditions) - 1, \"Mismatch in conditions and conjunctions\"\n",
    "\n",
    "        resultMask = np.ones((len(dataFrame),),dtype=bool)\n",
    "        conjunctions = [c for c in self.conjunctions]\n",
    "        \n",
    "        # adding True mask and dummy 'and'\n",
    "        conjunctions.insert(0, 'and')\n",
    "        \n",
    "        for condition, conjunction in zip(self.conditions, conjunctions):\n",
    "            feature, value, operation = condition['feature'], condition['value'], condition['operation']\n",
    "            feature = dataFrame[feature]\n",
    "            currentMask = self.mask(feature, value, operation)\n",
    "            if conjunction == 'and':\n",
    "                resultMask &= currentMask\n",
    "            elif conjunction == 'or':\n",
    "                resultMask |= currentMask\n",
    "        resultCount = int(np.bincount(resultMask)[1])\n",
    "        return dataFrame[resultMask], resultCount"
   ]
  },
  {
   "cell_type": "code",
   "execution_count": 5,
   "metadata": {
    "collapsed": false
   },
   "outputs": [],
   "source": [
    "class Suite:\n",
    "    def __init__(self, dataFrame, suiteName):\n",
    "        self.dataFrame = dataFrame\n",
    "        self.suiteName = suiteName\n",
    "        self.queries = []\n",
    "        self.resulSets = []\n",
    "        \n",
    "    def add_query(self, query, name=\"query\"):\n",
    "        assert type(query) == dict\n",
    "        self.queries.append((query,name))\n",
    "    \n",
    "    def run(self):\n",
    "        print \"Initiating Run for test suite\",self.suiteName\n",
    "        for query,name in self.queries:\n",
    "            print \"Testing query:\",name\n",
    "            q = Query(name)\n",
    "            resultSet, resultCount = q.lookup(self.dataFrame, query)\n",
    "            jsonOut = resultSet.to_dict(orient='split')\n",
    "            jsonOut['resultCount'] = resultCount\n",
    "            yield jsonOut"
   ]
  },
  {
   "cell_type": "code",
   "execution_count": 6,
   "metadata": {
    "collapsed": false
   },
   "outputs": [],
   "source": [
    "query = { 'conditions': [\n",
    "            {\n",
    "                'feature': 'race',\n",
    "                'operation': 'eq',\n",
    "                'value': 'Black'\n",
    "            },\n",
    "            {\n",
    "                'feature': 'sex',\n",
    "                'operation': 'eq',\n",
    "                'value': 'Female'\n",
    "            },\n",
    "            {\n",
    "                'feature': 'marital-status',\n",
    "                'operation': 'eq',\n",
    "                'value': 'Divorced'\n",
    "            },\n",
    "            {\n",
    "                'feature': 'age',\n",
    "                'operation': 'gte',\n",
    "                'value': 35\n",
    "            }],\n",
    "        'conjunctions': ['and', 'and', 'and']\n",
    "    }"
   ]
  },
  {
   "cell_type": "code",
   "execution_count": 7,
   "metadata": {
    "collapsed": false
   },
   "outputs": [],
   "source": [
    "suite = Suite(data,\"demo_suite\")"
   ]
  },
  {
   "cell_type": "code",
   "execution_count": 8,
   "metadata": {
    "collapsed": false
   },
   "outputs": [
    {
     "data": {
      "text/plain": [
       "<__main__.Suite instance at 0x112468c20>"
      ]
     },
     "execution_count": 8,
     "metadata": {},
     "output_type": "execute_result"
    }
   ],
   "source": [
    "suite"
   ]
  },
  {
   "cell_type": "code",
   "execution_count": 9,
   "metadata": {
    "collapsed": true
   },
   "outputs": [],
   "source": [
    "suite.add_query(query, \"demo_query\")"
   ]
  },
  {
   "cell_type": "code",
   "execution_count": 10,
   "metadata": {
    "collapsed": false
   },
   "outputs": [
    {
     "name": "stdout",
     "output_type": "stream",
     "text": [
      "Initiating Run for test suite demo_suite\n",
      "Testing query: demo_query\n",
      "['index', 'resultCount', 'data', 'columns']\n"
     ]
    }
   ],
   "source": [
    "for out in suite.run():\n",
    "    print out.keys()"
   ]
  },
  {
   "cell_type": "code",
   "execution_count": null,
   "metadata": {
    "collapsed": true
   },
   "outputs": [],
   "source": []
  }
 ],
 "metadata": {
  "kernelspec": {
   "display_name": "Python [Root]",
   "language": "python",
   "name": "Python [Root]"
  },
  "language_info": {
   "codemirror_mode": {
    "name": "ipython",
    "version": 2
   },
   "file_extension": ".py",
   "mimetype": "text/x-python",
   "name": "python",
   "nbconvert_exporter": "python",
   "pygments_lexer": "ipython2",
   "version": "2.7.12"
  }
 },
 "nbformat": 4,
 "nbformat_minor": 0
}
